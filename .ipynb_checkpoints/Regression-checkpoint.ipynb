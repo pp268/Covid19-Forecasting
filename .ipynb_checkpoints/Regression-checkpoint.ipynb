{
 "cells": [
  {
   "cell_type": "code",
   "execution_count": 1,
   "metadata": {},
   "outputs": [],
   "source": [
    "import pandas as pd\n",
    "import numpy as np"
   ]
  },
  {
   "cell_type": "code",
   "execution_count": 138,
   "metadata": {},
   "outputs": [],
   "source": [
    "train = pd.read_csv('train.csv')\n",
    "test = pd.read_csv('test.csv')\n",
    "submission = pd.read_csv('submission.csv')"
   ]
  },
  {
   "cell_type": "code",
   "execution_count": 140,
   "metadata": {},
   "outputs": [
    {
     "name": "stdout",
     "output_type": "stream",
     "text": [
      "<class 'pandas.core.frame.DataFrame'>\n",
      "RangeIndex: 24414 entries, 0 to 24413\n",
      "Data columns (total 6 columns):\n",
      "Id                24414 non-null int64\n",
      "Country_Region    24414 non-null object\n",
      "Province_State    10374 non-null object\n",
      "Date              24414 non-null object\n",
      "ConfirmedCases    24414 non-null float64\n",
      "Fatalities        24414 non-null float64\n",
      "dtypes: float64(2), int64(1), object(3)\n",
      "memory usage: 1.1+ MB\n"
     ]
    }
   ],
   "source": [
    "train.info()"
   ]
  },
  {
   "cell_type": "code",
   "execution_count": 51,
   "metadata": {},
   "outputs": [],
   "source": [
    "for data in [train,test]:\n",
    "    data['Date'] = data['Date'].apply(lambda date : pd.to_datetime(date))\n",
    "    data['month'] = data['Date'].apply(lambda date: date.month)\n",
    "    data['day'] = data['Date'].apply(lambda date: date.day)\n",
    "    day_from_jan_first = data['Date'] - pd.to_datetime('2020-01-01')\n",
    "    data['day_from_jan_first'] = day_from_jan_first.apply(lambda day_obj : day_obj.days + 1)"
   ]
  },
  {
   "cell_type": "code",
   "execution_count": 52,
   "metadata": {},
   "outputs": [],
   "source": [
    "train['Country/Province'] = np.where(train['Province_State'].isna() == False, train['Country_Region'] + '/' + train['Province_State'], train['Country_Region'])\n",
    "test['Country/Province'] = np.where(test['Province_State'].isna() == False, test['Country_Region'] + '/' + test['Province_State'], test['Country_Region'])"
   ]
  },
  {
   "cell_type": "code",
   "execution_count": 54,
   "metadata": {},
   "outputs": [],
   "source": [
    "countries = train['Country/Province'].unique()"
   ]
  },
  {
   "cell_type": "code",
   "execution_count": 128,
   "metadata": {},
   "outputs": [
    {
     "name": "stderr",
     "output_type": "stream",
     "text": [
      "C:\\Users\\PP\\Anaconda3\\lib\\site-packages\\ipykernel_launcher.py:18: SettingWithCopyWarning: \n",
      "A value is trying to be set on a copy of a slice from a DataFrame.\n",
      "Try using .loc[row_indexer,col_indexer] = value instead\n",
      "\n",
      "See the caveats in the documentation: http://pandas.pydata.org/pandas-docs/stable/indexing.html#indexing-view-versus-copy\n"
     ]
    }
   ],
   "source": [
    "from xgboost import XGBRegressor\n",
    "submission=pd.DataFrame(columns=submission.columns)\n",
    "for country in countries:\n",
    "    train_df=train[train['Country/Province']==country]\n",
    "    x=train_df[['day_from_jan_first','month', 'day']]\n",
    "    x_fat = train_df[['day_from_jan_first','month', 'day','ConfirmedCases']]\n",
    "    y1=train_df[['ConfirmedCases']]\n",
    "    y2=train_df[['Fatalities']]\n",
    "    model_1=XGBRegressor()\n",
    "    model_2=XGBRegressor()\n",
    "    model_1.fit(x,y1)\n",
    "    model_2.fit(x_fat,y2)\n",
    "    test_df=test[test['Country/Province']==country]\n",
    "    test_id=test_df['Id'].values.tolist()\n",
    "    test_x=test_df[['day_from_jan_first','month', 'day']]\n",
    "    test_x_fat = test_df[['day_from_jan_first','month', 'day']]\n",
    "    test_y1=model_1.predict(test_x)\n",
    "    test_x_fat['ConfirmedCases']=np.rint(test_y1)\n",
    "    test_y2=model_2.predict(test_x_fat)\n",
    "    test_res=pd.DataFrame(columns=submission.columns)\n",
    "    test_res['ConfirmedCases']=np.rint(test_y1)\n",
    "    test_res['ForecastId']=test_id\n",
    "    test_res['Fatalities']=np.rint(test_y2)\n",
    "    submission=submission.append(test_res)"
   ]
  },
  {
   "cell_type": "code",
   "execution_count": 129,
   "metadata": {},
   "outputs": [
    {
     "data": {
      "text/html": [
       "<div>\n",
       "<style scoped>\n",
       "    .dataframe tbody tr th:only-of-type {\n",
       "        vertical-align: middle;\n",
       "    }\n",
       "\n",
       "    .dataframe tbody tr th {\n",
       "        vertical-align: top;\n",
       "    }\n",
       "\n",
       "    .dataframe thead th {\n",
       "        text-align: right;\n",
       "    }\n",
       "</style>\n",
       "<table border=\"1\" class=\"dataframe\">\n",
       "  <thead>\n",
       "    <tr style=\"text-align: right;\">\n",
       "      <th></th>\n",
       "      <th>ForecastId</th>\n",
       "      <th>ConfirmedCases</th>\n",
       "      <th>Fatalities</th>\n",
       "    </tr>\n",
       "  </thead>\n",
       "  <tbody>\n",
       "    <tr>\n",
       "      <th>0</th>\n",
       "      <td>15049</td>\n",
       "      <td>0.0</td>\n",
       "      <td>0.0</td>\n",
       "    </tr>\n",
       "    <tr>\n",
       "      <th>1</th>\n",
       "      <td>15051</td>\n",
       "      <td>0.0</td>\n",
       "      <td>0.0</td>\n",
       "    </tr>\n",
       "    <tr>\n",
       "      <th>2</th>\n",
       "      <td>15055</td>\n",
       "      <td>0.0</td>\n",
       "      <td>0.0</td>\n",
       "    </tr>\n",
       "    <tr>\n",
       "      <th>3</th>\n",
       "      <td>15057</td>\n",
       "      <td>0.0</td>\n",
       "      <td>0.0</td>\n",
       "    </tr>\n",
       "    <tr>\n",
       "      <th>4</th>\n",
       "      <td>15068</td>\n",
       "      <td>0.0</td>\n",
       "      <td>0.0</td>\n",
       "    </tr>\n",
       "  </tbody>\n",
       "</table>\n",
       "</div>"
      ],
      "text/plain": [
       "  ForecastId  ConfirmedCases  Fatalities\n",
       "0      15049             0.0         0.0\n",
       "1      15051             0.0         0.0\n",
       "2      15055             0.0         0.0\n",
       "3      15057             0.0         0.0\n",
       "4      15068             0.0         0.0"
      ]
     },
     "execution_count": 129,
     "metadata": {},
     "output_type": "execute_result"
    }
   ],
   "source": [
    "submission.head()"
   ]
  },
  {
   "cell_type": "code",
   "execution_count": null,
   "metadata": {},
   "outputs": [],
   "source": [
    "submission.to_csv('submission.csv',index=False)"
   ]
  }
 ],
 "metadata": {
  "kernelspec": {
   "display_name": "Python 3",
   "language": "python",
   "name": "python3"
  },
  "language_info": {
   "codemirror_mode": {
    "name": "ipython",
    "version": 3
   },
   "file_extension": ".py",
   "mimetype": "text/x-python",
   "name": "python",
   "nbconvert_exporter": "python",
   "pygments_lexer": "ipython3",
   "version": "3.6.5"
  }
 },
 "nbformat": 4,
 "nbformat_minor": 2
}
